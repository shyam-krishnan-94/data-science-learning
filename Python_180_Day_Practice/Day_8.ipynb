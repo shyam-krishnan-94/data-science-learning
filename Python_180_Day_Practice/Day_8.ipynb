{
  "nbformat": 4,
  "nbformat_minor": 0,
  "metadata": {
    "colab": {
      "provenance": []
    },
    "kernelspec": {
      "name": "python3",
      "display_name": "Python 3"
    },
    "language_info": {
      "name": "python"
    }
  },
  "cells": [
    {
      "cell_type": "code",
      "execution_count": 4,
      "metadata": {
        "colab": {
          "base_uri": "https://localhost:8080/"
        },
        "id": "Anf2U58GXPkL",
        "outputId": "fc1b1afd-140c-4b63-bd0d-5abbf3fb41fe"
      },
      "outputs": [
        {
          "output_type": "stream",
          "name": "stdout",
          "text": [
            "Enter string length:1\n",
            "Enter element 1:2\n",
            "[2]\n"
          ]
        }
      ],
      "source": [
        "S=int(input(\"Enter string length:\"))\n",
        "L=[]\n",
        "S1=[]\n",
        "if(S>0):\n",
        "  for i in range(S):\n",
        "    m=int(input(f\"Enter element {i+1}:\"))\n",
        "    L.append(m)\n",
        "  for j in range(len(L)):\n",
        "    if(L[j] in S1):\n",
        "      pass\n",
        "    else:\n",
        "      S1.append(L[j])\n",
        "  print(S1)\n",
        "else:\n",
        "  print(\"Empty string\")"
      ]
    }
  ]
}