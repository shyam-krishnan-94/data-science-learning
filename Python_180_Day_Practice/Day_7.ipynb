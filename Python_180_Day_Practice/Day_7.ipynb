{
  "nbformat": 4,
  "nbformat_minor": 0,
  "metadata": {
    "colab": {
      "provenance": []
    },
    "kernelspec": {
      "name": "python3",
      "display_name": "Python 3"
    },
    "language_info": {
      "name": "python"
    }
  },
  "cells": [
    {
      "cell_type": "markdown",
      "source": [
        "| Symbol  | Meaning                            | Example    | Matches                  |       |                |\n",
        "| ------- | ---------------------------------- | ---------- | ------------------------ | ----- | -------------- |\n",
        "| `.`     | Any character except newline       | `a.c`      | `abc`, `axc`             |       |                |\n",
        "| `^`     | Start of string                    | `^a`       | `\"apple\"` matches        |       |                |\n",
        "| `$`     | End of string                      | `e$`       | `\"apple\"` matches        |       |                |\n",
        "| `*`     | 0 or more times                    | `lo*l`     | `ll`, `lol`, `loool`     |       |                |\n",
        "| `+`     | 1 or more times                    | `lo+l`     | `lol`, `lool` (not `ll`) |       |                |\n",
        "| `?`     | 0 or 1 time                        | `lo?l`     | `ll`, `lol`              |       |                |\n",
        "| `[]`    | Set of characters                  | `[aeiou]`  | any vowel                |       |                |\n",
        "| `[^]`   | NOT in set                         | `[^aeiou]` | any non-vowel            |       |                |\n",
        "| `\\d`    | Digit                              | `\\d+`      | `123`, `9`               |       |                |\n",
        "| `\\D`    | Non-digit                          | `\\D+`      | `abc`, `XYZ`             |       |                |\n",
        "| `\\w`    | Word character (letters/digits/\\_) | `\\w+`      | `abc123`, `_hi`          |       |                |\n",
        "| `\\W`    | Non-word character                 | `\\W+`      | `!`, `@#`, space         |       |                |\n",
        "| `\\s`    | Whitespace                         | `\\s+`      | spaces, tabs, newlines   |       |                |\n",
        "| `\\S`    | Non-whitespace                     | `\\S+`      | non-space text           |       |                |\n",
        "| `{n}`   | Exactly n times                    | `\\d{2}`    | `22`, `99`               |       |                |\n",
        "| `{n,}`  | n or more times                    | `\\d{2,}`   | `123`, `99`              |       |                |\n",
        "| `{n,m}` | Between n and m                    | `\\d{2,4}`  | `22`, `123`, `1234`      |       |                |\n",
        "| \\`      | \\`                                 | OR         | \\`cat                    | dog\\` | matches either |\n"
      ],
      "metadata": {
        "id": "27YAXe3MfO1S"
      }
    },
    {
      "cell_type": "code",
      "source": [
        "text = \"The 3 little pigs had 100 bricks and 2 sticks.\"\n",
        "# Expected Output: ['3', '100', '2']\n"
      ],
      "metadata": {
        "id": "TDXgRmzdfWjd"
      },
      "execution_count": 1,
      "outputs": []
    },
    {
      "cell_type": "markdown",
      "source": [
        "| Function         | Description                                     | Syntax                                 |\n",
        "| ---------------- | ----------------------------------------------- | -------------------------------------- |\n",
        "| `re.search()`    | Finds **first match** anywhere in the string    | `re.search(pattern, string)`           |\n",
        "| `re.match()`     | Matches pattern **only at the beginning**       | `re.match(pattern, string)`            |\n",
        "| `re.fullmatch()` | Checks if **entire string** matches the pattern | `re.fullmatch(pattern, string)`        |\n",
        "| `re.findall()`   | Returns **all matches** as a list               | `re.findall(pattern, string)`          |\n",
        "| `re.finditer()`  | Returns **iterator of match objects**           | `re.finditer(pattern, string)`         |\n",
        "| `re.sub()`       | Replaces all matches with a string              | `re.sub(pattern, replacement, string)` |\n",
        "| `re.split()`     | Splits string by the matched pattern            | `re.split(pattern, string)`            |\n",
        "# New Section"
      ],
      "metadata": {
        "id": "CruVPGujfk7h"
      }
    },
    {
      "cell_type": "code",
      "source": [
        "import re\n",
        "re.findall('\\d+',text)"
      ],
      "metadata": {
        "colab": {
          "base_uri": "https://localhost:8080/"
        },
        "id": "PYA14o7VfqYe",
        "outputId": "24176439-7877-4279-af39-dfbff2288daa"
      },
      "execution_count": 3,
      "outputs": [
        {
          "output_type": "execute_result",
          "data": {
            "text/plain": [
              "['3', '100', '2']"
            ]
          },
          "metadata": {},
          "execution_count": 3
        }
      ]
    },
    {
      "cell_type": "code",
      "source": [
        "#[\" JohnDoe  \", \"  @Jane99\", \" Mike_21 \", \"   An@#na  \", \"Amy!\"]\n",
        "#Remove leading and trailing spaces using .strip()\n",
        "\n",
        "#Convert the username to lowercase using .lower()\n",
        "\n",
        "#Keep only alphanumeric characters (letters and numbers)"
      ],
      "metadata": {
        "id": "JW9kaD3rgiVK"
      },
      "execution_count": null,
      "outputs": []
    },
    {
      "cell_type": "code",
      "source": [
        "#Text manipulation practice\n",
        "L = [\" JohnDoe  \", \"  @Ja9\", \" Mike_21 \", \"   An@#  \", \"Amy!\", \"Kishore@123\"]\n",
        "M=[]\n",
        "X=[]\n",
        "for i in L:\n",
        "  M.append((i.strip()).lower())\n",
        "print(M)\n",
        "for i in M:\n",
        "  N=[]\n",
        "  for j in i:\n",
        "    if j.isalnum():\n",
        "      N.append(j)\n",
        "    else:\n",
        "      pass\n",
        "  cleaned = \"\".join(N)\n",
        "  if(len(cleaned)>=5):\n",
        "    X.append(cleaned)\n",
        "print(X)"
      ],
      "metadata": {
        "colab": {
          "base_uri": "https://localhost:8080/"
        },
        "id": "p3z278hAhVPc",
        "outputId": "039659e8-4cc8-40b9-8c48-b6c94cbcb2e8"
      },
      "execution_count": 18,
      "outputs": [
        {
          "output_type": "stream",
          "name": "stdout",
          "text": [
            "['johndoe', '@ja9', 'mike_21', 'an@#', 'amy!', 'kishore@123']\n",
            "['johndoe', 'mike21', 'kishore123']\n"
          ]
        }
      ]
    }
  ]
}