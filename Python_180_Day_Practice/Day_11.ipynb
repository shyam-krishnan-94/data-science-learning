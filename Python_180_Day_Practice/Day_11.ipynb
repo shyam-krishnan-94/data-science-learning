{
  "nbformat": 4,
  "nbformat_minor": 0,
  "metadata": {
    "colab": {
      "provenance": []
    },
    "kernelspec": {
      "name": "python3",
      "display_name": "Python 3"
    },
    "language_info": {
      "name": "python"
    }
  },
  "cells": [
    {
      "cell_type": "code",
      "execution_count": 15,
      "metadata": {
        "id": "xyvaFIfQVLZx"
      },
      "outputs": [],
      "source": [
        "#Edge cases\n",
        "\n",
        "#1. There is only 1 element, then return no second largest\n",
        "#2. All elements are same, then return no second largest\n",
        "#3. Test for negative numbers also\n",
        "#diff=[4,3,2,1]\n",
        "\n",
        "def second_largest(L):\n",
        "  if(len(L)>1):\n",
        "    sum=0\n",
        "    for x in L:\n",
        "      sum=sum+x\n",
        "    if(sum/len(L)==L[0]):\n",
        "      return \"All elements are same\"\n",
        "    else:\n",
        "      max=L[0]\n",
        "      for i in L:\n",
        "        if i>max:\n",
        "          max=i\n",
        "      modified=[]\n",
        "      for j in L:\n",
        "        if j!=max:\n",
        "          modified.append(j)\n",
        "      second_max=modified[0]\n",
        "      for k in modified:\n",
        "        if k>second_max:\n",
        "          second_max=k\n",
        "      return second_max\n",
        "  else:\n",
        "    return \"No second bigger element\""
      ]
    },
    {
      "cell_type": "code",
      "source": [
        "S=second_largest([1,2,3])\n",
        "print(S)"
      ],
      "metadata": {
        "colab": {
          "base_uri": "https://localhost:8080/"
        },
        "id": "4WLcB3xAaG-8",
        "outputId": "737902eb-a0d6-452e-e5a5-68235af09239"
      },
      "execution_count": 16,
      "outputs": [
        {
          "output_type": "stream",
          "name": "stdout",
          "text": [
            "2\n"
          ]
        }
      ]
    }
  ]
}