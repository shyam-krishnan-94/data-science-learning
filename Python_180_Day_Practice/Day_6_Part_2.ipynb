{
  "nbformat": 4,
  "nbformat_minor": 0,
  "metadata": {
    "colab": {
      "provenance": []
    },
    "kernelspec": {
      "name": "python3",
      "display_name": "Python 3"
    },
    "language_info": {
      "name": "python"
    }
  },
  "cells": [
    {
      "cell_type": "code",
      "execution_count": 14,
      "metadata": {
        "id": "104YEJ6QQ4D8"
      },
      "outputs": [],
      "source": [
        "def find_maximum(L):\n",
        "  max=L[0]\n",
        "  for i in L[1:]:\n",
        "    if(i>max):\n",
        "      max=i\n",
        "  return max"
      ]
    },
    {
      "cell_type": "code",
      "source": [
        "S=int(input(\"Enter the length of string:\"))\n",
        "L=[]\n",
        "if(S<=0):\n",
        "  print(\"No largest element for empty string\")\n",
        "else:\n",
        "  for i in range(S):\n",
        "    a=int(input(f\"Enter Element {i+1}:\"))\n",
        "    L.append(a)\n",
        "  print(f\"The largest element is {find_maximum(L)}\")"
      ],
      "metadata": {
        "colab": {
          "base_uri": "https://localhost:8080/",
          "height": 0
        },
        "id": "UQjahxSCQ-Rc",
        "outputId": "69918c62-7118-4122-d77b-eedbce083e82"
      },
      "execution_count": 15,
      "outputs": [
        {
          "output_type": "stream",
          "name": "stdout",
          "text": [
            "Enter the length of string:5\n",
            "Enter Element 1:-1\n",
            "Enter Element 2:-2\n",
            "Enter Element 3:-3\n",
            "Enter Element 4:-4\n",
            "Enter Element 5:-5\n",
            "The largest element is -1\n"
          ]
        }
      ]
    },
    {
      "cell_type": "code",
      "source": [],
      "metadata": {
        "id": "-ZQpA63jVVK4"
      },
      "execution_count": null,
      "outputs": []
    }
  ]
}