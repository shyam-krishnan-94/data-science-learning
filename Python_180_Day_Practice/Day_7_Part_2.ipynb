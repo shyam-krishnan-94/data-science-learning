{
  "nbformat": 4,
  "nbformat_minor": 0,
  "metadata": {
    "colab": {
      "provenance": []
    },
    "kernelspec": {
      "name": "python3",
      "display_name": "Python 3"
    },
    "language_info": {
      "name": "python"
    }
  },
  "cells": [
    {
      "cell_type": "code",
      "execution_count": 10,
      "metadata": {
        "colab": {
          "base_uri": "https://localhost:8080/"
        },
        "id": "RnAq-OElXQNh",
        "outputId": "240cce9a-c133-4b91-9926-50d780c38bcb"
      },
      "outputs": [
        {
          "output_type": "stream",
          "name": "stdout",
          "text": [
            "list[4, [10, 10, 8, 6, 4]]\n"
          ]
        }
      ],
      "source": [
        "L=[101,2,104,7,208,11]\n",
        "S=[]\n",
        "counter=0\n",
        "for i in range(len(L)):\n",
        "  if L[i]>4 and L[i]%2==0:\n",
        "    counter+=1\n",
        "  else:\n",
        "    pass\n",
        "  if L[i]%2==0:\n",
        "    S.append(L[i])\n",
        "for i in range(len(S)-1):\n",
        "  for j in range(len(S)-1):\n",
        "    if S[j]<S[j+1]:\n",
        "      c=S[j+1]\n",
        "      S[j+1]=S[j]\n",
        "      S[j]=c\n",
        "print(list[counter,S])"
      ]
    }
  ]
}