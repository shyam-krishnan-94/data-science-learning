{
  "nbformat": 4,
  "nbformat_minor": 0,
  "metadata": {
    "colab": {
      "provenance": []
    },
    "kernelspec": {
      "name": "python3",
      "display_name": "Python 3"
    },
    "language_info": {
      "name": "python"
    }
  },
  "cells": [
    {
      "cell_type": "code",
      "execution_count": null,
      "metadata": {
        "id": "qYwffsZ74h8f"
      },
      "outputs": [],
      "source": [
        "#Write a function that removes all duplicates from a list without changing the original order.\n"
      ]
    },
    {
      "cell_type": "code",
      "source": [
        "def rem_dup(L):\n",
        "  Dest=[]\n",
        "  for i in L:\n",
        "    if(i not in Dest):\n",
        "      Dest.append(i)\n",
        "  return(Dest)"
      ],
      "metadata": {
        "id": "rHHN8Dni46-S"
      },
      "execution_count": 1,
      "outputs": []
    },
    {
      "cell_type": "code",
      "source": [
        "Origin=[]\n",
        "lenOfList = int(input(\"Enter your length of string:\"))\n",
        "for i in range (0,lenOfList):\n",
        "  num=int(input(f\"Enter number {i+1}:\"))\n",
        "  Origin.append(num)\n",
        "print(rem_dup(Origin))"
      ],
      "metadata": {
        "colab": {
          "base_uri": "https://localhost:8080/"
        },
        "id": "cOM85v-_6iW6",
        "outputId": "c23ded5c-6d5d-458f-ba9e-f6ea94de0d52"
      },
      "execution_count": 6,
      "outputs": [
        {
          "output_type": "stream",
          "name": "stdout",
          "text": [
            "Enter your length of string:6\n",
            "Enter number 1:2\n",
            "Enter number 2:3\n",
            "Enter number 3:4\n",
            "Enter number 4:2\n",
            "Enter number 5:3\n",
            "Enter number 6:4\n",
            "[2, 3, 4]\n"
          ]
        }
      ]
    }
  ]
}