{
  "nbformat": 4,
  "nbformat_minor": 0,
  "metadata": {
    "colab": {
      "provenance": []
    },
    "kernelspec": {
      "name": "python3",
      "display_name": "Python 3"
    },
    "language_info": {
      "name": "python"
    }
  },
  "cells": [
    {
      "cell_type": "code",
      "execution_count": 9,
      "metadata": {
        "colab": {
          "base_uri": "https://localhost:8080/"
        },
        "id": "QeKDQ2QIWXfT",
        "outputId": "15984ca3-8791-4811-e7e9-d058b0b1c44a"
      },
      "outputs": [
        {
          "output_type": "stream",
          "name": "stdout",
          "text": [
            "palindrome\n"
          ]
        }
      ],
      "source": [
        "#Palindrome check\n",
        "s=\"malayalam\"\n",
        "L=[]\n",
        "R=[]\n",
        "for i in range(0,len(s)):\n",
        "  if s[i].lower().isalnum():\n",
        "    L.append(s[i])\n",
        "  else:\n",
        "    pass\n",
        "\n",
        "for i in range(0,len(L)):\n",
        "  R.append(L[((i+1)*-1)])\n",
        "\n",
        "if L==R:\n",
        "  print(\"palindrome\")\n",
        "else:\n",
        "  print(\"not a palindrome\")"
      ]
    }
  ]
}