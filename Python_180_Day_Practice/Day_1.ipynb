{
  "nbformat": 4,
  "nbformat_minor": 0,
  "metadata": {
    "colab": {
      "provenance": []
    },
    "kernelspec": {
      "name": "python3",
      "display_name": "Python 3"
    },
    "language_info": {
      "name": "python"
    }
  },
  "cells": [
    {
      "cell_type": "code",
      "execution_count": 2,
      "metadata": {
        "colab": {
          "base_uri": "https://localhost:8080/"
        },
        "id": "IiTe9m-QdCU8",
        "outputId": "975e23c1-019b-4f9c-a891-dba07ea76806"
      },
      "outputs": [
        {
          "output_type": "stream",
          "name": "stdout",
          "text": [
            "[]\n"
          ]
        }
      ],
      "source": [
        "#Hard Inputs\n",
        "input=[1, 3, 5, 7]\n",
        "output =[]\n",
        "for i in input:\n",
        "  if i%2 == 0:\n",
        "    output.append(i)\n",
        "print(output)"
      ]
    },
    {
      "cell_type": "code",
      "source": [
        "#With user defined functions\n",
        "def even_odd_check(X):\n",
        "  M=[]\n",
        "  for i in X:\n",
        "    if(i%2==0):\n",
        "      M.append(i)\n",
        "  return(M)"
      ],
      "metadata": {
        "id": "RjjBlZFSd8AO"
      },
      "execution_count": 2,
      "outputs": []
    },
    {
      "cell_type": "code",
      "source": [
        "L=[]\n",
        "s = int(input(\"Enter length of list:\"))\n",
        "for i in range(0,s):\n",
        "  num=int(input(\"Enter your numbers:\"))\n",
        "  L.append(num)\n",
        "\n",
        "print(even_odd_check(L))"
      ],
      "metadata": {
        "colab": {
          "base_uri": "https://localhost:8080/"
        },
        "outputId": "6e13df22-4b6e-4a0c-f0e0-5778f8555150",
        "id": "MwZtBkwKgY2w"
      },
      "execution_count": 3,
      "outputs": [
        {
          "output_type": "stream",
          "name": "stdout",
          "text": [
            "Enter length of list:4\n",
            "Enter your numbers:1\n",
            "Enter your numbers:2\n",
            "Enter your numbers:3\n",
            "Enter your numbers:4\n",
            "[2, 4]\n"
          ]
        }
      ]
    },
    {
      "cell_type": "code",
      "source": [
        "#Using filter function\n",
        "L=[]\n",
        "s = int(input(\"Enter length of list:\"))\n",
        "for i in range(0,s):\n",
        "  num=int(input(\"Enter your numbers:\"))\n",
        "  L.append(num)\n",
        "\n",
        "result=list(filter(lambda X: X%2==0,L))\n",
        "print(result)"
      ],
      "metadata": {
        "colab": {
          "base_uri": "https://localhost:8080/"
        },
        "id": "4E1PtjHchrfv",
        "outputId": "502db567-277f-4c4c-f258-8231c26845ec"
      },
      "execution_count": 5,
      "outputs": [
        {
          "output_type": "stream",
          "name": "stdout",
          "text": [
            "Enter length of list:4\n",
            "Enter your numbers:1\n",
            "Enter your numbers:2\n",
            "Enter your numbers:3\n",
            "Enter your numbers:4\n",
            "[2, 4]\n"
          ]
        }
      ]
    }
  ]
}