{
  "nbformat": 4,
  "nbformat_minor": 0,
  "metadata": {
    "colab": {
      "provenance": []
    },
    "kernelspec": {
      "name": "python3",
      "display_name": "Python 3"
    },
    "language_info": {
      "name": "python"
    }
  },
  "cells": [
    {
      "cell_type": "code",
      "execution_count": 14,
      "metadata": {
        "colab": {
          "base_uri": "https://localhost:8080/"
        },
        "id": "uXSdmKPiB_Bp",
        "outputId": "dd79ff4c-e3e6-413d-f86e-1f04711ff72b"
      },
      "outputs": [
        {
          "output_type": "stream",
          "name": "stdout",
          "text": [
            "The first repeating element is: 5\n"
          ]
        }
      ],
      "source": [
        "#To find out the first repeating element in a string\n",
        "#Brute force approach\n",
        "L=[10,5,3,4,3,5,6]\n",
        "F=[]\n",
        "for i in range(0,len(L)):\n",
        "  a=L[i]\n",
        "  for j in range(i+1,len(L)):\n",
        "    if a==L[j]:\n",
        "      F.append(L[j])\n",
        "    else:\n",
        "      None\n",
        "\n",
        "print(\"The first repeating element is:\",F[0])"
      ]
    }
  ]
}