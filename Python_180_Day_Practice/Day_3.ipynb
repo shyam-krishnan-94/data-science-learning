{
  "nbformat": 4,
  "nbformat_minor": 0,
  "metadata": {
    "colab": {
      "provenance": []
    },
    "kernelspec": {
      "name": "python3",
      "display_name": "Python 3"
    },
    "language_info": {
      "name": "python"
    }
  },
  "cells": [
    {
      "cell_type": "code",
      "execution_count": 3,
      "metadata": {
        "colab": {
          "base_uri": "https://localhost:8080/"
        },
        "id": "cYnu4sx3NYMZ",
        "outputId": "3b5944c1-2325-4ca9-a091-31bb511265c5"
      },
      "outputs": [
        {
          "output_type": "stream",
          "name": "stdout",
          "text": [
            "[4, 16, 36]\n"
          ]
        }
      ],
      "source": [
        "def square_evens(lst):\n",
        "  S=[]\n",
        "  for i in lst:\n",
        "    if(i%2==0):\n",
        "      S.append(i**2)\n",
        "  return S\n",
        "\n",
        "print(square_evens([1,2,3,4,5,6]))"
      ]
    },
    {
      "cell_type": "code",
      "source": [
        "#Other methods Map and Filter\n",
        "L=[1,2,3,4,5,6]\n",
        "square_evens = lambda X: X**2\n",
        "S=list(map(square_evens,filter(lambda X:X%2==0,L)))\n",
        "print(S)\n",
        "\n",
        "#List comprehensions\n",
        "\n",
        "X=[i**2 if i%2==0 else i**3 for i in L]\n",
        "print(X)"
      ],
      "metadata": {
        "colab": {
          "base_uri": "https://localhost:8080/"
        },
        "id": "y4kBUPuFOYPr",
        "outputId": "718e363c-0173-414e-a1b9-2ef378962f95"
      },
      "execution_count": 10,
      "outputs": [
        {
          "output_type": "stream",
          "name": "stdout",
          "text": [
            "[4, 16, 36]\n",
            "[1, 4, 27, 16, 125, 36]\n"
          ]
        }
      ]
    }
  ]
}