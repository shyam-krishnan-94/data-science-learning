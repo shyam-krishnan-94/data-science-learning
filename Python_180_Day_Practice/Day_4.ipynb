{
  "nbformat": 4,
  "nbformat_minor": 0,
  "metadata": {
    "colab": {
      "provenance": []
    },
    "kernelspec": {
      "name": "python3",
      "display_name": "Python 3"
    },
    "language_info": {
      "name": "python"
    }
  },
  "cells": [
    {
      "cell_type": "code",
      "execution_count": 1,
      "metadata": {
        "colab": {
          "base_uri": "https://localhost:8080/"
        },
        "id": "7It9721S6J6e",
        "outputId": "59eb7723-54ab-419d-bea8-d1087dc560c7"
      },
      "outputs": [
        {
          "output_type": "stream",
          "name": "stdout",
          "text": [
            "0 red\n",
            "1 yellow\n",
            "2 blue\n"
          ]
        }
      ],
      "source": [
        "#Enumerate helps track index and the value of list\n",
        "colors = ['red','yellow','blue']\n",
        "for index, color in enumerate(colors):\n",
        "  print(index,color)"
      ]
    },
    {
      "cell_type": "code",
      "source": [
        "n=int(input(\"Enter Value:\"))\n",
        "L=[]\n",
        "for i in range(1,n+1):\n",
        "  print('*'*i)\n",
        "\n",
        "#print('str'*i) --> is used to print in same line"
      ],
      "metadata": {
        "colab": {
          "base_uri": "https://localhost:8080/"
        },
        "id": "FG7zDIgv6sIU",
        "outputId": "a9238bad-528e-4b53-a9da-f142ac429786"
      },
      "execution_count": 5,
      "outputs": [
        {
          "output_type": "stream",
          "name": "stdout",
          "text": [
            "Enter Value:3\n",
            "*\n",
            "**\n",
            "***\n"
          ]
        }
      ]
    }
  ]
}