{
  "nbformat": 4,
  "nbformat_minor": 0,
  "metadata": {
    "colab": {
      "provenance": []
    },
    "kernelspec": {
      "name": "python3",
      "display_name": "Python 3"
    },
    "language_info": {
      "name": "python"
    }
  },
  "cells": [
    {
      "cell_type": "code",
      "execution_count": 21,
      "metadata": {
        "id": "qNhlCAswvfaA"
      },
      "outputs": [],
      "source": [
        "def insert_at_position(M,pos,val):\n",
        "  S=[]\n",
        "  if(pos>len(M)):\n",
        "    M.append(val)\n",
        "    return M\n",
        "  else:\n",
        "    for i in range(len(M)):\n",
        "      if(i==pos):\n",
        "        S.append(val)\n",
        "        S.append(M[i])\n",
        "      else:\n",
        "        S.append(M[i])\n",
        "  return S"
      ]
    },
    {
      "cell_type": "code",
      "source": [
        "a=insert_at_position(M=[1,2,3,4,5],pos=1,val=25)\n",
        "print(a)"
      ],
      "metadata": {
        "colab": {
          "base_uri": "https://localhost:8080/"
        },
        "id": "mk0Y0F5Qyf_-",
        "outputId": "14f4ff56-d349-4caa-b3ce-f88193cf0fc1"
      },
      "execution_count": 24,
      "outputs": [
        {
          "output_type": "stream",
          "name": "stdout",
          "text": [
            "[1, 25, 2, 3, 4, 5]\n"
          ]
        }
      ]
    }
  ]
}