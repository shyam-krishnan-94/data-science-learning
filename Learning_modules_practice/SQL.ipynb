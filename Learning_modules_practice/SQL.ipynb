{
  "nbformat": 4,
  "nbformat_minor": 0,
  "metadata": {
    "colab": {
      "provenance": []
    },
    "kernelspec": {
      "name": "python3",
      "display_name": "Python 3"
    },
    "language_info": {
      "name": "python"
    }
  },
  "cells": [
    {
      "cell_type": "code",
      "execution_count": 1,
      "metadata": {
        "id": "jVBEwmHfkywf",
        "colab": {
          "base_uri": "https://localhost:8080/"
        },
        "outputId": "37695040-9b4e-44d8-dbbd-1ec4dd514cca"
      },
      "outputs": [
        {
          "output_type": "stream",
          "name": "stdout",
          "text": [
            "This is a sample file\n"
          ]
        }
      ],
      "source": [
        "print(\"This is a sample file\")"
      ]
    }
  ]
}