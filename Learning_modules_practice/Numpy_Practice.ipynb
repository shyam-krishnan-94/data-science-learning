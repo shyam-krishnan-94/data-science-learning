{
  "nbformat": 4,
  "nbformat_minor": 0,
  "metadata": {
    "colab": {
      "provenance": []
    },
    "kernelspec": {
      "name": "python3",
      "display_name": "Python 3"
    },
    "language_info": {
      "name": "python"
    }
  },
  "cells": [
    {
      "cell_type": "code",
      "execution_count": null,
      "metadata": {
        "id": "wCG7AmU79oLA"
      },
      "outputs": [],
      "source": [
        "import numpy as np"
      ]
    },
    {
      "cell_type": "code",
      "source": [
        "a=np.random.randint(-5,-1,size=(5,4))"
      ],
      "metadata": {
        "id": "CozAGjaz-Cni"
      },
      "execution_count": null,
      "outputs": []
    },
    {
      "cell_type": "code",
      "source": [
        "print(a)\n",
        "print(a[2:4,1:3])"
      ],
      "metadata": {
        "colab": {
          "base_uri": "https://localhost:8080/"
        },
        "id": "l37BrA9P-UK8",
        "outputId": "e658c2fc-7af1-4449-ea44-902dfb88844b"
      },
      "execution_count": null,
      "outputs": [
        {
          "output_type": "stream",
          "name": "stdout",
          "text": [
            "[[-5 -3 -3 -4]\n",
            " [-4 -5 -2 -3]\n",
            " [-3 -3 -4 -2]\n",
            " [-5 -3 -5 -5]\n",
            " [-2 -3 -4 -2]]\n",
            "[[-3 -4]\n",
            " [-3 -5]]\n"
          ]
        }
      ]
    },
    {
      "cell_type": "code",
      "source": [
        "import math\n",
        "b=np.zeros((5,7))\n",
        "#b.shape[1]\n",
        "#b.shape[0]\n",
        "#print(b)\n",
        "#print(b[:0])\n",
        "mid_row=math.floor(b.shape[0]/2)\n",
        "mid_col=math.floor(b.shape[1]/2)\n",
        "print(mid_col)\n",
        "b[mid_row,:]=1\n",
        "#print(b)\n",
        "b[:,mid_col]=1\n",
        "print(b)"
      ],
      "metadata": {
        "colab": {
          "base_uri": "https://localhost:8080/"
        },
        "id": "lE2SRJRP-lWc",
        "outputId": "48c189fd-20b9-4306-d3a6-3e9e2b85fdb3"
      },
      "execution_count": null,
      "outputs": [
        {
          "output_type": "stream",
          "name": "stdout",
          "text": [
            "3\n",
            "[[0. 0. 0. 1. 0. 0. 0.]\n",
            " [0. 0. 0. 1. 0. 0. 0.]\n",
            " [1. 1. 1. 1. 1. 1. 1.]\n",
            " [0. 0. 0. 1. 0. 0. 0.]\n",
            " [0. 0. 0. 1. 0. 0. 0.]]\n"
          ]
        }
      ]
    },
    {
      "cell_type": "code",
      "source": [
        "a=np.random.randint(-5,-1,size=(5,4))\n",
        "print(a)\n",
        "a[:,1]=a[:,1]+2\n",
        "print(a)\n",
        "print(a.min())\n",
        "print(a.max())\n",
        "print(a[1].mean())"
      ],
      "metadata": {
        "colab": {
          "base_uri": "https://localhost:8080/"
        },
        "id": "LM19fsYLV8AC",
        "outputId": "1cb41dc1-8c47-4583-96b2-29d752802f18"
      },
      "execution_count": 11,
      "outputs": [
        {
          "output_type": "stream",
          "name": "stdout",
          "text": [
            "[[-4 -3 -5 -3]\n",
            " [-3 -3 -5 -2]\n",
            " [-5 -4 -3 -2]\n",
            " [-5 -5 -5 -5]\n",
            " [-4 -4 -4 -4]]\n",
            "[[-4 -1 -5 -3]\n",
            " [-3 -1 -5 -2]\n",
            " [-5 -2 -3 -2]\n",
            " [-5 -3 -5 -5]\n",
            " [-4 -2 -4 -4]]\n",
            "-5\n",
            "-1\n",
            "-2.75\n"
          ]
        }
      ]
    }
  ]
}